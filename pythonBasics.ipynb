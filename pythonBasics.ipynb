{
 "metadata": {
  "language_info": {
   "codemirror_mode": {
    "name": "ipython",
    "version": 3
   },
   "file_extension": ".py",
   "mimetype": "text/x-python",
   "name": "python",
   "nbconvert_exporter": "python",
   "pygments_lexer": "ipython3",
   "version": "3.7.3-final"
  },
  "orig_nbformat": 2,
  "kernelspec": {
   "name": "Python 3.7.3 64-bit ('base': conda)",
   "display_name": "Python 3.7.3 64-bit ('base': conda)",
   "metadata": {
    "interpreter": {
     "hash": "6705c6f4874fea6140c6ab1c007f777aa8387bd370fc85c4eaacd3a5d39148b3"
    }
   }
  }
 },
 "nbformat": 4,
 "nbformat_minor": 2,
 "cells": [
  {
   "source": [
    "### 1. pring string in a specific format"
   ],
   "cell_type": "markdown",
   "metadata": {}
  },
  {
   "cell_type": "code",
   "execution_count": 6,
   "metadata": {},
   "outputs": [
    {
     "output_type": "stream",
     "name": "stdout",
     "text": [
      "Twinkle, twinkle, little star, \n\tHow I wonder what you are! \n\t\tUp above the world so high, \n\t\tLike a diamond in the sky. \nTwinkle, twinkle, little star, \n\tHow I wonder what you are\n"
     ]
    }
   ],
   "source": [
    "print(\"Twinkle, twinkle, little star, \\n\\tHow I wonder what you are! \\n\\t\\tUp above the world so high, \\n\\t\\tLike a diamond in the sky. \\nTwinkle, twinkle, little star, \\n\\tHow I wonder what you are\")"
   ]
  },
  {
   "source": [
    "\\n for change line\n",
    "\\t for tab"
   ],
   "cell_type": "markdown",
   "metadata": {}
  },
  {
   "source": [
    "### 2. to get the python version you are using"
   ],
   "cell_type": "markdown",
   "metadata": {}
  },
  {
   "cell_type": "code",
   "execution_count": 8,
   "metadata": {},
   "outputs": [
    {
     "output_type": "stream",
     "name": "stdout",
     "text": [
      "Python version:  3.7.3 (default, Mar 27 2019, 16:54:48) \n[Clang 4.0.1 (tags/RELEASE_401/final)]\n"
     ]
    }
   ],
   "source": [
    "import sys \n",
    "print(\"Python version: \", sys.version)"
   ]
  },
  {
   "cell_type": "code",
   "execution_count": 10,
   "metadata": {},
   "outputs": [
    {
     "output_type": "stream",
     "name": "stdout",
     "text": [
      "Version Info:  sys.version_info(major=3, minor=7, micro=3, releaselevel='final', serial=0)\n"
     ]
    }
   ],
   "source": [
    "print(\"Version Info: \", sys.version_info)"
   ]
  },
  {
   "source": [
    "sys module provides access to some variables used or maintained by the interpreter and to functions that interact strongly with the interpreter."
   ],
   "cell_type": "markdown",
   "metadata": {}
  },
  {
   "source": [
    "### 3. display the current date and time"
   ],
   "cell_type": "markdown",
   "metadata": {}
  },
  {
   "cell_type": "code",
   "execution_count": 11,
   "metadata": {},
   "outputs": [
    {
     "output_type": "stream",
     "name": "stdout",
     "text": [
      "Current data and time\n2020-10-11 17:47:00\n"
     ]
    }
   ],
   "source": [
    "import datetime\n",
    "now = datetime.datetime.now()\n",
    "print(\"Current data and time\")\n",
    "print(now.strftime(\"%Y-%m-%d %H:%M:%S\"))"
   ]
  },
  {
   "source": [
    "The datetime module supplies classes for manipulating dates and times in both simple and complex ways.\n",
    "\n",
    "datetime.now(tz=None) returns the current local date and time.\n",
    "date.strftime(format) returns a string representing the date."
   ],
   "cell_type": "markdown",
   "metadata": {}
  },
  {
   "source": [
    "### 4. a program which accepts the radius of a circle from the user and compute the area"
   ],
   "cell_type": "markdown",
   "metadata": {}
  },
  {
   "cell_type": "code",
   "execution_count": 14,
   "metadata": {},
   "outputs": [
    {
     "output_type": "stream",
     "name": "stdout",
     "text": [
      "The area of the circle with radius 1.1 is: 3.8013271108436504\n"
     ]
    }
   ],
   "source": [
    "from math import pi\n",
    "r = float(input(\"Input the radius of the circle:\"))\n",
    "Area = pi*(r**2)\n",
    "print(\"The area of the circle with radius \"+ str(r)+ \" is: \"+ str(Area))"
   ]
  },
  {
   "source": [
    "1. numeric constant in math module\n",
    "2. get input from the users: function  input\n",
    "3. data type conversion: float(), str()"
   ],
   "cell_type": "markdown",
   "metadata": {}
  },
  {
   "source": [
    "### 5. a program which accepts the user's first and last name and print them in reverse order with a space between them."
   ],
   "cell_type": "markdown",
   "metadata": {}
  },
  {
   "cell_type": "code",
   "execution_count": 26,
   "metadata": {},
   "outputs": [
    {
     "output_type": "stream",
     "name": "stdout",
     "text": [
      "Hello  jiwe jfiwe\n"
     ]
    }
   ],
   "source": [
    "firstName = input(\"Input your first name:\")\n",
    "lastName = input(\"Input your last name:\")\n",
    "print(\"Hello \"+ lastName+ \" \" + firstName)"
   ]
  },
  {
   "source": [
    "1. input() function to accept data directly from the user"
   ],
   "cell_type": "markdown",
   "metadata": {}
  },
  {
   "source": [
    "### 6. a program which accepts a seq of comma-seperated numbers from user and generate a list and a tuple with those numbers."
   ],
   "cell_type": "markdown",
   "metadata": {}
  },
  {
   "cell_type": "code",
   "execution_count": 36,
   "metadata": {},
   "outputs": [
    {
     "output_type": "error",
     "ename": "TypeError",
     "evalue": "'tuple' object is not callable",
     "traceback": [
      "\u001b[0;31m---------------------------------------------------------------------------\u001b[0m",
      "\u001b[0;31mTypeError\u001b[0m                                 Traceback (most recent call last)",
      "\u001b[0;32m<ipython-input-36-854835705639>\u001b[0m in \u001b[0;36m<module>\u001b[0;34m\u001b[0m\n\u001b[1;32m      1\u001b[0m \u001b[0mvalues\u001b[0m \u001b[0;34m=\u001b[0m \u001b[0minput\u001b[0m\u001b[0;34m(\u001b[0m\u001b[0;34m\"Input Sample data: \"\u001b[0m\u001b[0;34m)\u001b[0m\u001b[0;34m\u001b[0m\u001b[0;34m\u001b[0m\u001b[0m\n\u001b[1;32m      2\u001b[0m \u001b[0mlist\u001b[0m \u001b[0;34m=\u001b[0m \u001b[0mvalues\u001b[0m\u001b[0;34m.\u001b[0m\u001b[0msplit\u001b[0m\u001b[0;34m(\u001b[0m\u001b[0;34m\",\"\u001b[0m\u001b[0;34m)\u001b[0m\u001b[0;34m\u001b[0m\u001b[0;34m\u001b[0m\u001b[0m\n\u001b[0;32m----> 3\u001b[0;31m \u001b[0mtuple\u001b[0m \u001b[0;34m=\u001b[0m \u001b[0mtuple\u001b[0m\u001b[0;34m(\u001b[0m\u001b[0mvalues\u001b[0m\u001b[0;34m)\u001b[0m\u001b[0;34m\u001b[0m\u001b[0;34m\u001b[0m\u001b[0m\n\u001b[0m\u001b[1;32m      4\u001b[0m \u001b[0mprint\u001b[0m\u001b[0;34m(\u001b[0m\u001b[0;34m\"List: \"\u001b[0m\u001b[0;34m,\u001b[0m\u001b[0mlist\u001b[0m\u001b[0;34m)\u001b[0m\u001b[0;34m\u001b[0m\u001b[0;34m\u001b[0m\u001b[0m\n\u001b[1;32m      5\u001b[0m \u001b[0mprint\u001b[0m\u001b[0;34m(\u001b[0m\u001b[0;34m\"Tuple: \"\u001b[0m\u001b[0;34m,\u001b[0m\u001b[0mtuple\u001b[0m\u001b[0;34m)\u001b[0m\u001b[0;34m\u001b[0m\u001b[0;34m\u001b[0m\u001b[0m\n",
      "\u001b[0;31mTypeError\u001b[0m: 'tuple' object is not callable"
     ]
    }
   ],
   "source": [
    "values = input(\"Input Sample data: \")\n",
    "list = values.split(\",\")\n",
    "tuple = tuple(values)\n",
    "print(\"List: \",list)\n",
    "print(\"Tuple: \",tuple)"
   ]
  },
  {
   "source": [
    "1. python list: mutable, comma-seperated, don't need all element with same type\n",
    "2. python tuple: immutable, comma-seperated, can hold mix data types\n",
    "3. print(str + str) 只有str之间可以相加， 不同数据类型不能相加"
   ],
   "cell_type": "markdown",
   "metadata": {}
  },
  {
   "source": [
    "### 7. a program to accept a filename from the user and print the extension of that"
   ],
   "cell_type": "markdown",
   "metadata": {}
  },
  {
   "cell_type": "code",
   "execution_count": 38,
   "metadata": {},
   "outputs": [
    {
     "output_type": "stream",
     "name": "stdout",
     "text": [
      "The extension of the file is: 'txt'\n"
     ]
    }
   ],
   "source": [
    "filename = input(\"Input the filename: \")\n",
    "extension = filename.split(\".\")\n",
    "print(\"The extension of the file is: \" + repr(extension[-1]))"
   ]
  },
  {
   "source": [
    "1.  str.rsplit(sep=None, maxsplit=-1) function: \n",
    "returns a list of the words of a given string using a seperator as the delimiter string.\n",
    "\n",
    "maxsplit: the list have at most maxsplit +1 elements\n",
    "sep can consist of multiple characters\n",
    "\n",
    "2. repr function is similar to str function\n",
    "print(repr(string))  print with a pair of quotes\n",
    "print(repr(2.0/3.0))  get more precise outcome than print(str(2.0/3.0))\n",
    "repr 返回解释器易读的表达形式\n",
    "str  返回用户易读的表达形式"
   ],
   "cell_type": "markdown",
   "metadata": {}
  },
  {
   "source": [
    "### 8. a program to display the first and last colors from the following list"
   ],
   "cell_type": "markdown",
   "metadata": {}
  },
  {
   "cell_type": "code",
   "execution_count": 41,
   "metadata": {},
   "outputs": [
    {
     "output_type": "stream",
     "name": "stdout",
     "text": [
      "The first and last colors of the list are red  and  black\n"
     ]
    }
   ],
   "source": [
    "color_list = [\"red\",\"green\",\"white\",\"black\"]\n",
    "print(\"The first and last colors of the list are\", color_list[0],\" and \",color_list[-1])"
   ]
  },
  {
   "cell_type": "code",
   "execution_count": 42,
   "metadata": {},
   "outputs": [
    {
     "output_type": "stream",
     "name": "stdout",
     "text": [
      "red black\n"
     ]
    }
   ],
   "source": [
    "# solution\n",
    "print(\"%s %s\" %(color_list[0],color_list[-1]))"
   ]
  },
  {
   "source": [
    "### 9. a program the display the examination schedule (extract the date from exam_st_date)"
   ],
   "cell_type": "markdown",
   "metadata": {}
  },
  {
   "cell_type": "code",
   "execution_count": 44,
   "metadata": {},
   "outputs": [
    {
     "output_type": "stream",
     "name": "stdout",
     "text": [
      "The examination will start from: 11 / 12 / 2014\n"
     ]
    }
   ],
   "source": [
    "exam_st_date = (11, 12, 2014)\n",
    "print(\"The examination will start from: %i / %i / %i\" %exam_st_date)"
   ]
  },
  {
   "source": [
    "### 10. a program that accepts an integer (n) and computes the value of n+nn+nnn"
   ],
   "cell_type": "markdown",
   "metadata": {}
  },
  {
   "cell_type": "code",
   "execution_count": 49,
   "metadata": {},
   "outputs": [
    {
     "output_type": "stream",
     "name": "stdout",
     "text": [
      "615\n"
     ]
    }
   ],
   "source": [
    "n = input(\"Enter an integer:\")\n",
    "print(int(n)+int(str(n)*2)+int(str(n)*3))"
   ]
  },
  {
   "source": [
    "int(x,base=10)\n",
    "data type conversion\n",
    "For floating number, truncates towards zero.\n"
   ],
   "cell_type": "markdown",
   "metadata": {}
  },
  {
   "cell_type": "code",
   "execution_count": 53,
   "metadata": {},
   "outputs": [
    {
     "output_type": "execute_result",
     "data": {
      "text/plain": [
       "10"
      ]
     },
     "metadata": {},
     "execution_count": 53
    }
   ],
   "source": [
    "int(str(12),base=8)\n",
    "# transfer 八进制 12 to 十进制 10"
   ]
  },
  {
   "cell_type": "code",
   "execution_count": 57,
   "metadata": {},
   "outputs": [
    {
     "output_type": "stream",
     "name": "stdout",
     "text": [
      "55\n"
     ]
    }
   ],
   "source": [
    "# solution\n",
    "a = int(input(\"Input an integer:\"))\n",
    "n2 = int(\"%s%s\" % (a,a))\n",
    "print(n2)"
   ]
  },
  {
   "source": [
    "### 11. a program to print the documents (syntax, descriptions) of python built-in functions"
   ],
   "cell_type": "markdown",
   "metadata": {}
  },
  {
   "cell_type": "code",
   "execution_count": 58,
   "metadata": {},
   "outputs": [
    {
     "output_type": "stream",
     "name": "stdout",
     "text": [
      "Return the absolute value of the argument.\n"
     ]
    }
   ],
   "source": [
    "print( abs.__doc__)"
   ]
  },
  {
   "source": [
    "A docstring is a string literal that occurs as the first statement in a module, function, class, or method definition.\n",
    "__doc__ special attribute of that object"
   ],
   "cell_type": "markdown",
   "metadata": {}
  },
  {
   "source": [
    "### 12. a program to print the calender of a given month and year"
   ],
   "cell_type": "markdown",
   "metadata": {}
  },
  {
   "cell_type": "code",
   "execution_count": 59,
   "metadata": {},
   "outputs": [
    {
     "output_type": "stream",
     "name": "stdout",
     "text": [
      "    October 2020\nMo Tu We Th Fr Sa Su\n          1  2  3  4\n 5  6  7  8  9 10 11\n12 13 14 15 16 17 18\n19 20 21 22 23 24 25\n26 27 28 29 30 31\n\n"
     ]
    }
   ],
   "source": [
    "# calender module\n",
    "import calendar\n",
    "year = int(input(\"Enter the year:\"))\n",
    "month = int(input(\"Enter the month:\"))\n",
    "print(calendar.month(year,month))"
   ]
  },
  {
   "source": [
    "calender.month function returns a month’s calendar in a multi-line string using the formatmonth() of the TextCalendar class."
   ],
   "cell_type": "markdown",
   "metadata": {}
  },
  {
   "source": [
    "### 13. a program to print the following here document"
   ],
   "cell_type": "markdown",
   "metadata": {}
  },
  {
   "cell_type": "code",
   "execution_count": 61,
   "metadata": {},
   "outputs": [
    {
     "output_type": "stream",
     "name": "stdout",
     "text": [
      "a string that you \"don't\" have to escape\nThis\nis a ....... multi-line\nheredoc string --------> example\n"
     ]
    }
   ],
   "source": [
    "print(\"\"\"a string that you \"don't\" have to escape\n",
    "This\n",
    "is a ....... multi-line\n",
    "heredoc string --------> example\"\"\")"
   ]
  },
  {
   "source": [
    "\"\"\"\n",
    "\n",
    "\"\"\" comment a paragraph"
   ],
   "cell_type": "markdown",
   "metadata": {}
  },
  {
   "source": [
    "### 14. a program to calculate number of days between two dates"
   ],
   "cell_type": "markdown",
   "metadata": {}
  },
  {
   "cell_type": "code",
   "execution_count": 66,
   "metadata": {},
   "outputs": [
    {
     "output_type": "stream",
     "name": "stdout",
     "text": [
      "9\n"
     ]
    }
   ],
   "source": [
    "from datetime import date\n",
    "date1 = date(2014, 7, 2) \n",
    "date2 = date(2014, 7, 11)\n",
    "# date function return date object\n",
    "diff = date2 - date1\n",
    "print(diff.days) # days attribute"
   ]
  },
  {
   "source": [
    "### 15. a program to get the volume of a sphere with radius 6"
   ],
   "cell_type": "markdown",
   "metadata": {}
  },
  {
   "cell_type": "code",
   "execution_count": 71,
   "metadata": {},
   "outputs": [
    {
     "output_type": "stream",
     "name": "stdout",
     "text": [
      "The volume of the sphere is:  904.7786842338603\n"
     ]
    }
   ],
   "source": [
    "import math\n",
    "radius = int(input(\"Enter the radius: \"))\n",
    "volume = (4/3) * pi * (radius**3)\n",
    "print(\"The volume of the sphere is: \", volume)"
   ]
  },
  {
   "source": [
    "### 16. a program to get the difference between a given number and 17, if the number is greater than 17 return double the absolute difference"
   ],
   "cell_type": "markdown",
   "metadata": {}
  },
  {
   "cell_type": "code",
   "execution_count": 76,
   "metadata": {},
   "outputs": [
    {
     "output_type": "stream",
     "name": "stdout",
     "text": [
      "10\n"
     ]
    }
   ],
   "source": [
    "a = int(input(\"Enter a number: \"))\n",
    "if a>17:\n",
    "    print( 2*abs(a-17))\n",
    "else:\n",
    "    print( 17-a )"
   ]
  },
  {
   "source": [
    "### 17.  a program to test whether a number is within 100 of 1000 or 2000."
   ],
   "cell_type": "markdown",
   "metadata": {}
  },
  {
   "cell_type": "code",
   "execution_count": 77,
   "metadata": {},
   "outputs": [],
   "source": [
    "def thousand(n):\n",
    "    if (abs(n-1000)<=100) or (abs(n-2000)<= 100):\n",
    "        return(True)\n",
    "    else:\n",
    "        return (False)"
   ]
  },
  {
   "cell_type": "code",
   "execution_count": 81,
   "metadata": {},
   "outputs": [
    {
     "output_type": "stream",
     "name": "stdout",
     "text": [
      "True\nTrue\nTrue\nTrue\nFalse\n"
     ]
    }
   ],
   "source": [
    "print(thousand(999))\n",
    "print(thousand(1093))\n",
    "print(thousand(1987))\n",
    "print(thousand(2078))\n",
    "print(thousand(1589))"
   ]
  },
  {
   "source": [
    "### 18. a program to calculate the sum of three given numbers, if the values are equal then return thrice of their sum"
   ],
   "cell_type": "markdown",
   "metadata": {}
  },
  {
   "cell_type": "code",
   "execution_count": 84,
   "metadata": {},
   "outputs": [],
   "source": [
    "def thriceBonus(a,b,c):\n",
    "    if a == b == c:\n",
    "        return(3*3*a)\n",
    "    else:\n",
    "        return(a+b+c)"
   ]
  },
  {
   "cell_type": "code",
   "execution_count": 86,
   "metadata": {},
   "outputs": [
    {
     "output_type": "stream",
     "name": "stdout",
     "text": [
      "6\n27\n"
     ]
    }
   ],
   "source": [
    "print(thriceBonus(1,2,3))\n",
    "print(thriceBonus(3,3,3))"
   ]
  },
  {
   "source": [
    "### 19. a program to get a new string from a given string where \"Is\" has been added to the front. If the given string already begins with \"Is\" then return the string unchanged"
   ],
   "cell_type": "markdown",
   "metadata": {}
  },
  {
   "cell_type": "code",
   "execution_count": 87,
   "metadata": {},
   "outputs": [],
   "source": [
    "def add_is(str):\n",
    "    if len(str) >=2 and str[:2] == \"Is\":\n",
    "        return(str)\n",
    "    else:\n",
    "        return(\"Is\" + str)"
   ]
  },
  {
   "cell_type": "code",
   "execution_count": 88,
   "metadata": {},
   "outputs": [
    {
     "output_type": "stream",
     "name": "stdout",
     "text": [
      "IsArray\nIsempty\n"
     ]
    }
   ],
   "source": [
    "print(add_is(\"Array\"))\n",
    "print(add_is(\"Isempty\"))"
   ]
  },
  {
   "source": [
    "### 20. a program to get a string which is n copies of a given string."
   ],
   "cell_type": "markdown",
   "metadata": {}
  },
  {
   "cell_type": "code",
   "execution_count": 89,
   "metadata": {},
   "outputs": [],
   "source": [
    "def copystr(str,n):\n",
    "    return(str*n)"
   ]
  },
  {
   "cell_type": "code",
   "execution_count": 90,
   "metadata": {},
   "outputs": [
    {
     "output_type": "stream",
     "name": "stdout",
     "text": [
      "abcabcabcabcabc\n"
     ]
    }
   ],
   "source": [
    "print(copystr(\"abc\",5))"
   ]
  },
  {
   "source": [
    "### 21. a program to find whether a given number (accept from the user) is even or odd, print out an appropriate message to the user"
   ],
   "cell_type": "markdown",
   "metadata": {}
  },
  {
   "cell_type": "code",
   "execution_count": 91,
   "metadata": {},
   "outputs": [],
   "source": [
    "def EvenOrOdd(n):\n",
    "    if n%2 ==0:\n",
    "        print(\"The entered number is even!\")\n",
    "    else:\n",
    "        print(\"The entered number is odd!\")"
   ]
  },
  {
   "cell_type": "code",
   "execution_count": 92,
   "metadata": {},
   "outputs": [
    {
     "output_type": "stream",
     "name": "stdout",
     "text": [
      "The entered number is even!\n"
     ]
    }
   ],
   "source": [
    "EvenOrOdd(20)"
   ]
  },
  {
   "source": [
    "### 24.  a Python program to test whether a passed letter is a vowel or not"
   ],
   "cell_type": "markdown",
   "metadata": {}
  },
  {
   "cell_type": "code",
   "execution_count": 93,
   "metadata": {},
   "outputs": [],
   "source": [
    "def testVowel(l):\n",
    "    vowel = 'aiueo'\n",
    "    return l in vowel"
   ]
  },
  {
   "cell_type": "code",
   "execution_count": 95,
   "metadata": {},
   "outputs": [
    {
     "output_type": "stream",
     "name": "stdout",
     "text": [
      "False\n"
     ]
    }
   ],
   "source": [
    "print(testVowel(\"r\"))"
   ]
  },
  {
   "source": [
    "### 36. a Python program to add two objects if both objects are an integer type"
   ],
   "cell_type": "markdown",
   "metadata": {}
  },
  {
   "cell_type": "code",
   "execution_count": 97,
   "metadata": {},
   "outputs": [],
   "source": [
    "def addintegers(a,b):\n",
    "    if (isinstance(a,int) and isinstance(b,int)):\n",
    "        return a+b\n",
    "    else: \n",
    "        raise TypeError(\"Inputs must be integers!\")"
   ]
  },
  {
   "cell_type": "code",
   "execution_count": 99,
   "metadata": {},
   "outputs": [
    {
     "output_type": "stream",
     "name": "stdout",
     "text": [
      "30\n"
     ]
    }
   ],
   "source": [
    "print(addintegers(10, 20))"
   ]
  },
  {
   "cell_type": "code",
   "execution_count": null,
   "metadata": {},
   "outputs": [],
   "source": []
  }
 ]
}